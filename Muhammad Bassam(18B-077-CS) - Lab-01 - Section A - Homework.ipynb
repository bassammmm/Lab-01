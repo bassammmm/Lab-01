{
 "cells": [
  {
   "cell_type": "markdown",
   "metadata": {},
   "source": [
    "# Lab-01"
   ]
  },
  {
   "cell_type": "code",
   "execution_count": 14,
   "metadata": {},
   "outputs": [
    {
     "name": "stdout",
     "output_type": "stream",
     "text": [
      "Please enter the temperature in Degree Centigrade to convert to Fahrenheit \n",
      "Centigrade: 32\n",
      "\n",
      "Fahrenheit : 89.6\n"
     ]
    }
   ],
   "source": [
    "#Question 1 : Degree Centigrade to Fahrenheit :-\n",
    "\n",
    "c = (float(input(\"Please enter the temperature in Degree Centigrade to convert to Fahrenheit \\nCentigrade: \")))\n",
    "f = ((c*1.8)+32)\n",
    "print(\"\\nFahrenheit :\", str(f))"
   ]
  },
  {
   "cell_type": "code",
   "execution_count": 13,
   "metadata": {},
   "outputs": [
    {
     "name": "stdout",
     "output_type": "stream",
     "text": [
      "Please enter the temperature in Degree Fahrenheit to convert to Centigrade \n",
      "Fahrenheit: 89.6\n",
      "\n",
      "Centigrade : 31.999999999999996\n"
     ]
    }
   ],
   "source": [
    "#Question 2 : Degree Fahrenheit to Centigrade :-\n",
    "\n",
    "f = (float(input(\"Please enter the temperature in Degree Fahrenheit to convert to Centigrade \\nFahrenheit: \")))\n",
    "c = ((f-32)/1.8)\n",
    "print(\"\\nCentigrade :\", str(c))"
   ]
  },
  {
   "cell_type": "code",
   "execution_count": 7,
   "metadata": {},
   "outputs": [
    {
     "name": "stdout",
     "output_type": "stream",
     "text": [
      "Please enter the following values to calculate Area Of Triangle \n",
      "Base  : 55\n",
      "Height: 26.8\n",
      "\n",
      "The Area of the Triangle is :  737.0\n"
     ]
    }
   ],
   "source": [
    "#Question 3 : Area of Triangle :-\n",
    "\n",
    "b = (float(input(\"Please enter the following values to calculate Area Of Triangle \\nBase  : \")))\n",
    "h = (float(input(\"Height: \")))\n",
    "a = ((b*h)/2)\n",
    "print(\"\\nThe Area of the Triangle is : \", str(a))"
   ]
  },
  {
   "cell_type": "code",
   "execution_count": 15,
   "metadata": {},
   "outputs": [
    {
     "name": "stdout",
     "output_type": "stream",
     "text": [
      "Please enter the value of Radius to calculate the Volume of the sphere \n",
      "Radius: 2.8\n",
      "\n",
      "Volume of Sphere:  91.95232257547082\n"
     ]
    }
   ],
   "source": [
    "#Question 4 : Volume Of Sphere :-\n",
    "\n",
    "from math import pi\n",
    "r = (float(input(\"Please enter the value of Radius to calculate the Volume of the sphere \\nRadius: \")))\n",
    "v = ((4/3)*pi*(r**3))\n",
    "print(\"\\nVolume of Sphere: \", str(v))"
   ]
  },
  {
   "cell_type": "code",
   "execution_count": 12,
   "metadata": {},
   "outputs": [
    {
     "name": "stdout",
     "output_type": "stream",
     "text": [
      "Please enter your Full Name : Muhammad Bassam\n",
      "\n",
      "Upper Case:  MUHAMMAD BASSAM\n",
      "Lower Case:  muhammad bassam\n",
      "Title Case:  Muhammad Bassam\n"
     ]
    }
   ],
   "source": [
    "#Question 5 : Upper, Lower and Title case :-\n",
    "\n",
    "name = input(\"Please enter your Full Name : \")\n",
    "print(\"\\nUpper Case: \", name.upper())\n",
    "print(\"Lower Case: \", name.lower())\n",
    "print(\"Title Case: \", name.title())"
   ]
  }
 ],
 "metadata": {
  "kernelspec": {
   "display_name": "Python 3",
   "language": "python",
   "name": "python3"
  },
  "language_info": {
   "codemirror_mode": {
    "name": "ipython",
    "version": 3
   },
   "file_extension": ".py",
   "mimetype": "text/x-python",
   "name": "python",
   "nbconvert_exporter": "python",
   "pygments_lexer": "ipython3",
   "version": "3.7.0"
  }
 },
 "nbformat": 4,
 "nbformat_minor": 2
}
